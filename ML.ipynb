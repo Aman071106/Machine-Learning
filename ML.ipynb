{
 "cells": [
  {
   "cell_type": "markdown",
   "metadata": {},
   "source": [
    "Required libraries:\n",
    "-Numpy"
   ]
  },
  {
   "cell_type": "markdown",
   "metadata": {},
   "source": [
    "Vdo 11 -Tensors"
   ]
  },
  {
   "cell_type": "markdown",
   "metadata": {},
   "source": [
    "0-D tensors"
   ]
  },
  {
   "cell_type": "code",
   "execution_count": 2,
   "metadata": {},
   "outputs": [
    {
     "name": "stdout",
     "output_type": "stream",
     "text": [
      "2\n",
      "0\n"
     ]
    }
   ],
   "source": [
    "import numpy as np\n",
    "a=np.array(2)\n",
    "print(a)\n",
    "# Dimension\n",
    "print(a.ndim)"
   ]
  },
  {
   "cell_type": "markdown",
   "metadata": {},
   "source": [
    "1-D tensors=\"vector\"(dimension of vector=number of terms in 1-d tensor)\n",
    "only one axis"
   ]
  },
  {
   "cell_type": "code",
   "execution_count": 6,
   "metadata": {},
   "outputs": [
    {
     "name": "stdout",
     "output_type": "stream",
     "text": [
      "[1 2 3]\n",
      "1\n"
     ]
    }
   ],
   "source": [
    "import numpy as np\n",
    "a=np.array([1,2,3])\n",
    "print(a)\n",
    "#Dimension\n",
    "print(a.ndim)"
   ]
  },
  {
   "cell_type": "markdown",
   "metadata": {},
   "source": [
    "2-D tensors=\"matrix\"(dimension of matrix=m*n because 2 axis column and row)\n",
    "collection of vectors"
   ]
  },
  {
   "cell_type": "code",
   "execution_count": 8,
   "metadata": {},
   "outputs": [
    {
     "name": "stdout",
     "output_type": "stream",
     "text": [
      "[[ 1  2  3]\n",
      " [ 3 45  4]\n",
      " [ 3 45  4]]\n",
      "2\n"
     ]
    }
   ],
   "source": [
    "import numpy as np\n",
    "a=np.array([[1,2,3],[3,45,4],[3,45,4]])\n",
    "print(a)\n",
    "#Dimension\n",
    "print(a.ndim)"
   ]
  },
  {
   "cell_type": "markdown",
   "metadata": {},
   "source": [
    "N-d tensors is a collection of n-1 d tensors and rank=n and axis =n\n",
    "dimension writing format of n-d tensor= a1*a2*a3.....an"
   ]
  },
  {
   "cell_type": "code",
   "execution_count": 9,
   "metadata": {},
   "outputs": [
    {
     "name": "stdout",
     "output_type": "stream",
     "text": [
      "[[[ 1  2  3]\n",
      "  [ 3 45  4]\n",
      "  [ 3 45  4]]\n",
      "\n",
      " [[ 1  2  3]\n",
      "  [ 3 45  4]\n",
      "  [ 3 45  4]]\n",
      "\n",
      " [[ 1  2  3]\n",
      "  [ 3 45  4]\n",
      "  [ 3 45  4]]]\n",
      "3\n"
     ]
    }
   ],
   "source": [
    "import numpy as np\n",
    "a=np.array([[[1,2,3],[3,45,4],[3,45,4]],[[1,2,3],[3,45,4],[3,45,4]],[[1,2,3],[3,45,4],[3,45,4]]])\n",
    "print(a)\n",
    "#Dimension\n",
    "print(a.ndim)"
   ]
  },
  {
   "cell_type": "markdown",
   "metadata": {},
   "source": [
    "Number of Axis=number of dimension=Rank of tensor\n",
    "shape=dimension format =ro*col*.... if multiple dimesions\n",
    "\n",
    "1-d: (n,)\n",
    "2-d: (m,n)\n",
    "\n",
    "size=evaluation of shape\n",
    "for(scalar shape=1)\n",
    "\n",
    "Note:\n",
    "1-d is collection of 0-d\n",
    "2-d is collection of 1-d and so on"
   ]
  },
  {
   "cell_type": "markdown",
   "metadata": {},
   "source": [
    "Although vector=1-d tensor but it has its own dimension that is not the dimension of tensor\n",
    "Example) Students=1000\n",
    "cgpa,iq,state is input columns\n",
    "Let's say two states W.B ,Karnataka, and name them as '0' and '1' -This is called **Label Encoding**\n"
   ]
  },
  {
   "cell_type": "code",
   "execution_count": null,
   "metadata": {},
   "outputs": [],
   "source": [
    "stu1=[8.1,91,0]\n",
    "stu2=[9,87,1]\n",
    "# Here dimension of tensor is one but for vector it is 3 as 3 input columns\n",
    "# Each entry is a one-d tensor\n",
    "# [1,0,0,0,1......] it is a collection of the 3rd input column in another 1-d tensor"
   ]
  },
  {
   "cell_type": "markdown",
   "metadata": {},
   "source": [
    "# 2-D Tensor example\n",
    "Collection of 1-d tensor like above students collection in a list will be a matrix\n",
    "It is denoted by **D**"
   ]
  },
  {
   "cell_type": "code",
   "execution_count": 2,
   "metadata": {},
   "outputs": [
    {
     "data": {
      "text/plain": [
       "[[8.1, 91, 0], [9, 87, 1]]"
      ]
     },
     "execution_count": 2,
     "metadata": {},
     "output_type": "execute_result"
    }
   ],
   "source": [
    "stu1=[8.1,91,0]\n",
    "stu2=[9,87,1]\n",
    "D=[stu1,stu2]\n",
    "D"
   ]
  },
  {
   "cell_type": "markdown",
   "metadata": {},
   "source": [
    "# 3-d Tensors\n",
    "Example 1)NLP\n",
    "Let say we provide text to our machine then it can't understand it ,we need to provide it in the form of numbers-This is called **vectorization**\n",
    "There are many techniques of vectorization"
   ]
  },
  {
   "cell_type": "code",
   "execution_count": 18,
   "metadata": {},
   "outputs": [
    {
     "name": "stdout",
     "output_type": "stream",
     "text": [
      "[[1. 0. 0. 0.]\n",
      " [0. 1. 0. 0.]\n",
      " [0. 0. 1. 0.]\n",
      " [0. 0. 0. 1.]]\n",
      "text1\n",
      "[[1. 0. 0. 0.]\n",
      " [0. 1. 0. 0.]]\n",
      "text2\n",
      "[[1. 0. 0. 0.]\n",
      " [0. 0. 1. 0.]]\n",
      "text3\n",
      "[[1. 0. 0. 0.]\n",
      " [0. 0. 0. 1.]]\n",
      "(3, 2, 4)\n",
      "24\n"
     ]
    }
   ],
   "source": [
    "import numpy as np\n",
    "# Say these are the inputs\n",
    "text1=\"Hi Nitish\"\n",
    "text2=\"Hi Rahul\"\n",
    "text3=\"Hi Ankit\"\n",
    "# So define a //*corpus*//\n",
    "corpus=np.eye(4,4) #The four words represented by each row\n",
    "print(corpus)\n",
    "# define text\n",
    "\n",
    "t1=np.array([corpus[0,:],corpus[1,:]])\n",
    "t2=np.array([corpus[0,:],corpus[2,:]])\n",
    "t3=np.array([corpus[0,:],corpus[3,:]])\n",
    "print(\"text1\")\n",
    "print(t1)\n",
    "print(\"text2\")\n",
    "print(t2)\n",
    "print(\"text3\")\n",
    "print(t3)\n",
    "ThreeD=np.array([t1,t2,t3])\n",
    "ThreeD\n",
    "# Since 3 2-d tensors in 1 3-d collection, then in each 2-d we have 2 1-d and in each 1-d we have 4 scalars or 0-d\n",
    "print(ThreeD.shape)\n",
    "print(ThreeD.size)"
   ]
  },
  {
   "cell_type": "markdown",
   "metadata": {},
   "source": [
    "Example 2)**Time Series data**- The data is collected after regular intervals of time ex )\n",
    "Let's say we record higest and lowest prices of one stock in one day for 10 years then we should have 10*365*2 tensor\n",
    "middle axis=time axis, no of collections of 1-d\n",
    "first=no of collection of 2-d\n",
    "last =no of entries in 1-d"
   ]
  },
  {
   "cell_type": "markdown",
   "metadata": {},
   "source": [
    "# 4-D Tensors\n",
    "Example) Image Processing and Computer vision\n",
    "Since Image is matrix of pixels which has a value in each pixel that shows it colors etc\n",
    "An image is collection of R,G,B matrix so one image is 3-D tensors\n",
    "Let's say each matrix has 1200*800\n",
    "then one image will be a 3-D tensor of (3* 1200 * 800)\n",
    "But if we provide multiple images (say 50) to our model we have (50* 3 * 1200 * 800)"
   ]
  },
  {
   "cell_type": "markdown",
   "metadata": {},
   "source": [
    "# 5-D Tensors\n",
    "Example) Each vdo has multiple images but moving with more speed then persistence of vision(12/second)\n",
    "generally we have 30fps,60 fps etch which means that no of images/frames per second\n",
    "so let's say we have 10 vdos of 60fps where each vdo is of 40 seconds and resolution is 480*720\n",
    "then (10* 2400* 3 * 420 * 720) =(vdos*no of images in each vdo *shape of image)\n",
    "here\n",
    "(21772800000)=no of scalars , assuming each to be float we will requiure 4* 21772800000 bytes or 4* 2177280000 *8 bits\n",
    "or 81 gb if we divide by (1024^3) to get gigabytes-\n",
    "so we doesn't do like this- wwe use codecs like mp4,mkv etc they reduce size"
   ]
  },
  {
   "cell_type": "markdown",
   "metadata": {},
   "source": [
    "**-----------------------------------------------------------------VDO 12 starts----------------------------------------------------------------------**"
   ]
  },
  {
   "cell_type": "markdown",
   "metadata": {},
   "source": [
    "#Pandas how to import data set\n",
    "the file should be in same folder or provide its path"
   ]
  },
  {
   "cell_type": "code",
   "execution_count": 21,
   "metadata": {},
   "outputs": [
    {
     "data": {
      "text/html": [
       "<div>\n",
       "<style scoped>\n",
       "    .dataframe tbody tr th:only-of-type {\n",
       "        vertical-align: middle;\n",
       "    }\n",
       "\n",
       "    .dataframe tbody tr th {\n",
       "        vertical-align: top;\n",
       "    }\n",
       "\n",
       "    .dataframe thead th {\n",
       "        text-align: right;\n",
       "    }\n",
       "</style>\n",
       "<table border=\"1\" class=\"dataframe\">\n",
       "  <thead>\n",
       "    <tr style=\"text-align: right;\">\n",
       "      <th></th>\n",
       "      <th>College ID</th>\n",
       "      <th>Country</th>\n",
       "      <th>Total Students</th>\n",
       "      <th>Male</th>\n",
       "      <th>Female</th>\n",
       "      <th>CGPA</th>\n",
       "      <th>Annual Family Income</th>\n",
       "      <th>Branch</th>\n",
       "      <th>Sports</th>\n",
       "      <th>Research Papers Published</th>\n",
       "      <th>Placement Rate</th>\n",
       "      <th>Faculty Count</th>\n",
       "    </tr>\n",
       "  </thead>\n",
       "  <tbody>\n",
       "    <tr>\n",
       "      <th>0</th>\n",
       "      <td>College 52</td>\n",
       "      <td>UK</td>\n",
       "      <td>27002</td>\n",
       "      <td>2593</td>\n",
       "      <td>11644</td>\n",
       "      <td>10.000000</td>\n",
       "      <td>3574250</td>\n",
       "      <td>Physics</td>\n",
       "      <td>Swimming</td>\n",
       "      <td>39</td>\n",
       "      <td>100.00</td>\n",
       "      <td>655</td>\n",
       "    </tr>\n",
       "    <tr>\n",
       "      <th>1</th>\n",
       "      <td>College 93</td>\n",
       "      <td>Switzerland</td>\n",
       "      <td>11913</td>\n",
       "      <td>9392</td>\n",
       "      <td>2521</td>\n",
       "      <td>6.951278</td>\n",
       "      <td>762556</td>\n",
       "      <td>Chemical Engineering</td>\n",
       "      <td>Athletics</td>\n",
       "      <td>31</td>\n",
       "      <td>68.84</td>\n",
       "      <td>256</td>\n",
       "    </tr>\n",
       "    <tr>\n",
       "      <th>2</th>\n",
       "      <td>College 15</td>\n",
       "      <td>Japan</td>\n",
       "      <td>15644</td>\n",
       "      <td>5475</td>\n",
       "      <td>4388</td>\n",
       "      <td>9.327922</td>\n",
       "      <td>1795845</td>\n",
       "      <td>Business Administration</td>\n",
       "      <td>Volleyball</td>\n",
       "      <td>37</td>\n",
       "      <td>91.99</td>\n",
       "      <td>555</td>\n",
       "    </tr>\n",
       "    <tr>\n",
       "      <th>3</th>\n",
       "      <td>College 72</td>\n",
       "      <td>Singapore</td>\n",
       "      <td>13239</td>\n",
       "      <td>7363</td>\n",
       "      <td>5876</td>\n",
       "      <td>8.681112</td>\n",
       "      <td>1222223</td>\n",
       "      <td>Physics</td>\n",
       "      <td>Tennis</td>\n",
       "      <td>48</td>\n",
       "      <td>97.98</td>\n",
       "      <td>455</td>\n",
       "    </tr>\n",
       "    <tr>\n",
       "      <th>4</th>\n",
       "      <td>College 61</td>\n",
       "      <td>Canada</td>\n",
       "      <td>10236</td>\n",
       "      <td>13339</td>\n",
       "      <td>-3103</td>\n",
       "      <td>8.560567</td>\n",
       "      <td>1921133</td>\n",
       "      <td>Biotechnology</td>\n",
       "      <td>Athletics</td>\n",
       "      <td>34</td>\n",
       "      <td>83.56</td>\n",
       "      <td>310</td>\n",
       "    </tr>\n",
       "    <tr>\n",
       "      <th>...</th>\n",
       "      <td>...</td>\n",
       "      <td>...</td>\n",
       "      <td>...</td>\n",
       "      <td>...</td>\n",
       "      <td>...</td>\n",
       "      <td>...</td>\n",
       "      <td>...</td>\n",
       "      <td>...</td>\n",
       "      <td>...</td>\n",
       "      <td>...</td>\n",
       "      <td>...</td>\n",
       "      <td>...</td>\n",
       "    </tr>\n",
       "    <tr>\n",
       "      <th>49995</th>\n",
       "      <td>College 93</td>\n",
       "      <td>India</td>\n",
       "      <td>14676</td>\n",
       "      <td>10771</td>\n",
       "      <td>3905</td>\n",
       "      <td>8.335598</td>\n",
       "      <td>3151197</td>\n",
       "      <td>Civil Engineering</td>\n",
       "      <td>Cricket</td>\n",
       "      <td>20</td>\n",
       "      <td>65.61</td>\n",
       "      <td>596</td>\n",
       "    </tr>\n",
       "    <tr>\n",
       "      <th>49996</th>\n",
       "      <td>College 48</td>\n",
       "      <td>Japan</td>\n",
       "      <td>21908</td>\n",
       "      <td>10682</td>\n",
       "      <td>6820</td>\n",
       "      <td>8.490003</td>\n",
       "      <td>3060006</td>\n",
       "      <td>Physics</td>\n",
       "      <td>Chess</td>\n",
       "      <td>9</td>\n",
       "      <td>99.15</td>\n",
       "      <td>383</td>\n",
       "    </tr>\n",
       "    <tr>\n",
       "      <th>49997</th>\n",
       "      <td>College 67</td>\n",
       "      <td>South Africa</td>\n",
       "      <td>17263</td>\n",
       "      <td>11035</td>\n",
       "      <td>6228</td>\n",
       "      <td>5.979781</td>\n",
       "      <td>1519563</td>\n",
       "      <td>Chemical Engineering</td>\n",
       "      <td>Athletics</td>\n",
       "      <td>35</td>\n",
       "      <td>78.28</td>\n",
       "      <td>671</td>\n",
       "    </tr>\n",
       "    <tr>\n",
       "      <th>49998</th>\n",
       "      <td>College 54</td>\n",
       "      <td>USA</td>\n",
       "      <td>11371</td>\n",
       "      <td>10233</td>\n",
       "      <td>1138</td>\n",
       "      <td>7.714894</td>\n",
       "      <td>2429788</td>\n",
       "      <td>Mechanical Engineering</td>\n",
       "      <td>Swimming</td>\n",
       "      <td>11</td>\n",
       "      <td>88.46</td>\n",
       "      <td>164</td>\n",
       "    </tr>\n",
       "    <tr>\n",
       "      <th>49999</th>\n",
       "      <td>College 16</td>\n",
       "      <td>China</td>\n",
       "      <td>20867</td>\n",
       "      <td>10643</td>\n",
       "      <td>10224</td>\n",
       "      <td>8.861043</td>\n",
       "      <td>3962086</td>\n",
       "      <td>Business Administration</td>\n",
       "      <td>Tennis</td>\n",
       "      <td>27</td>\n",
       "      <td>84.22</td>\n",
       "      <td>445</td>\n",
       "    </tr>\n",
       "  </tbody>\n",
       "</table>\n",
       "<p>50000 rows × 12 columns</p>\n",
       "</div>"
      ],
      "text/plain": [
       "       College ID       Country  Total Students   Male  Female       CGPA  \\\n",
       "0      College 52            UK           27002   2593   11644  10.000000   \n",
       "1      College 93   Switzerland           11913   9392    2521   6.951278   \n",
       "2      College 15         Japan           15644   5475    4388   9.327922   \n",
       "3      College 72     Singapore           13239   7363    5876   8.681112   \n",
       "4      College 61        Canada           10236  13339   -3103   8.560567   \n",
       "...           ...           ...             ...    ...     ...        ...   \n",
       "49995  College 93         India           14676  10771    3905   8.335598   \n",
       "49996  College 48         Japan           21908  10682    6820   8.490003   \n",
       "49997  College 67  South Africa           17263  11035    6228   5.979781   \n",
       "49998  College 54           USA           11371  10233    1138   7.714894   \n",
       "49999  College 16         China           20867  10643   10224   8.861043   \n",
       "\n",
       "       Annual Family Income                   Branch      Sports  \\\n",
       "0                   3574250                  Physics    Swimming   \n",
       "1                    762556     Chemical Engineering   Athletics   \n",
       "2                   1795845  Business Administration  Volleyball   \n",
       "3                   1222223                  Physics      Tennis   \n",
       "4                   1921133            Biotechnology   Athletics   \n",
       "...                     ...                      ...         ...   \n",
       "49995               3151197        Civil Engineering     Cricket   \n",
       "49996               3060006                  Physics       Chess   \n",
       "49997               1519563     Chemical Engineering   Athletics   \n",
       "49998               2429788   Mechanical Engineering    Swimming   \n",
       "49999               3962086  Business Administration      Tennis   \n",
       "\n",
       "       Research Papers Published  Placement Rate  Faculty Count  \n",
       "0                             39          100.00            655  \n",
       "1                             31           68.84            256  \n",
       "2                             37           91.99            555  \n",
       "3                             48           97.98            455  \n",
       "4                             34           83.56            310  \n",
       "...                          ...             ...            ...  \n",
       "49995                         20           65.61            596  \n",
       "49996                          9           99.15            383  \n",
       "49997                         35           78.28            671  \n",
       "49998                         11           88.46            164  \n",
       "49999                         27           84.22            445  \n",
       "\n",
       "[50000 rows x 12 columns]"
      ]
     },
     "execution_count": 21,
     "metadata": {},
     "output_type": "execute_result"
    }
   ],
   "source": [
    "import pandas as pd\n",
    "df=pd.read_csv('College Data.csv')\n",
    "df"
   ]
  },
  {
   "cell_type": "markdown",
   "metadata": {},
   "source": [
    "now in anaconda"
   ]
  }
 ],
 "metadata": {
  "kernelspec": {
   "display_name": "Python 3",
   "language": "python",
   "name": "python3"
  },
  "language_info": {
   "codemirror_mode": {
    "name": "ipython",
    "version": 3
   },
   "file_extension": ".py",
   "mimetype": "text/x-python",
   "name": "python",
   "nbconvert_exporter": "python",
   "pygments_lexer": "ipython3",
   "version": "3.11.9"
  }
 },
 "nbformat": 4,
 "nbformat_minor": 2
}
